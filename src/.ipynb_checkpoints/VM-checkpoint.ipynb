{
 "cells": [
  {
   "cell_type": "code",
   "execution_count": 6,
   "id": "25e1cf6e-eb03-4395-8be1-433a12ea2fcb",
   "metadata": {},
   "outputs": [],
   "source": [
    "using Match"
   ]
  },
  {
   "cell_type": "markdown",
   "id": "c8b27a2a-61de-4cd7-bbbf-e6f4a89919d4",
   "metadata": {},
   "source": [
    "# Virtual Machine "
   ]
  },
  {
   "cell_type": "markdown",
   "id": "ff2ba01b-1ded-4831-ad8a-0a15c349c496",
   "metadata": {},
   "source": [
    "## AST walking "
   ]
  },
  {
   "cell_type": "code",
   "execution_count": 203,
   "id": "52a5375e-0e88-4b21-87da-f5a5efd2bb84",
   "metadata": {},
   "outputs": [
    {
     "data": {
      "text/plain": [
       "at (generic function with 1 method)"
      ]
     },
     "execution_count": 203,
     "metadata": {},
     "output_type": "execute_result"
    }
   ],
   "source": [
    "struct Atom{T}\n",
    "    val::T\n",
    "end\n",
    "function val(a::Atom)\n",
    "    return a.val\n",
    "end\n",
    "struct SExpr\n",
    "    expr::Tuple\n",
    "end\n",
    "struct Macro{T}\n",
    "    func::T\n",
    "end\n",
    "function (m::Macro)(args...)\n",
    "    return m.func(args...)\n",
    "end\n",
    "function atomtype(a::Atom{T}) where T\n",
    "    return T\n",
    "end\n",
    "function se(args...)\n",
    "    return SExpr((x -> x isa Atom || x isa SExpr ? x : Atom(x)).(args))\n",
    "end\n",
    "function at(arg)\n",
    "    return Atom(arg)\n",
    "end"
   ]
  },
  {
   "cell_type": "code",
   "execution_count": 119,
   "id": "3e97a6aa-89ba-4bb7-80b5-14924dcdd2f6",
   "metadata": {},
   "outputs": [
    {
     "data": {
      "text/plain": [
       "7"
      ]
     },
     "execution_count": 119,
     "metadata": {},
     "output_type": "execute_result"
    }
   ],
   "source": [
    "((x...) -> sum(x))(3,4)"
   ]
  },
  {
   "cell_type": "code",
   "execution_count": 134,
   "id": "d55b4ce7-20e4-4f35-904f-8c35ba98e3e3",
   "metadata": {},
   "outputs": [
    {
     "data": {
      "text/plain": [
       "3"
      ]
     },
     "execution_count": 134,
     "metadata": {},
     "output_type": "execute_result"
    }
   ],
   "source": [
    "Dict(zip((:a, :b, :c), (1,2,3)))[:c]"
   ]
  },
  {
   "cell_type": "code",
   "execution_count": 417,
   "id": "ea45c517-b09f-47bc-81bb-379abd5d49ab",
   "metadata": {},
   "outputs": [
    {
     "data": {
      "text/plain": [
       "ast_walk (generic function with 3 methods)"
      ]
     },
     "execution_count": 417,
     "metadata": {},
     "output_type": "execute_result"
    }
   ],
   "source": [
    "BUILTINS = Dict(\n",
    "    :+ => (+), \n",
    "    :* => (*),\n",
    "    :list => (args...) -> SExpr(args),\n",
    "    :lambda => :lambda,\n",
    "    :macro  => :macro,\n",
    "    :quote => :quote,\n",
    ")\n",
    "DEFAULT_ENV = name -> name in keys(BUILTINS) ? BUILTINS[name] : error(\"Error: $(name) not defined\")\n",
    "\n",
    "function create_lambda(ast, env)\n",
    "    return (args...) -> ast_walk(\n",
    "            ast.expr[3],\n",
    "            env = begin\n",
    "                nameargs = Dict(zip(val.(ast.expr[2].expr), args))\n",
    "                name -> name in keys(nameargs) ? nameargs[name] : env(name) \n",
    "            end\n",
    "        )\n",
    "end\n",
    "\n",
    "# function ast_walk(ast::SExpr; env=DEFAULT_ENV)\n",
    "#     temp = ast_walk(ast.expr[1], env=env)\n",
    "#     @match temp begin\n",
    "#         :lambda => create_lambda(ast, env)\n",
    "#         :macro => Macro(create_lambda(ast, env))\n",
    "#         :quote => ast.expr[2]\n",
    "#         func::Function => temp(ast_walk.(ast.expr[2:end], env=env)...)\n",
    "#         macr::Macro    => ast_walk(temp(ast.expr[2:end]...), env=env)\n",
    "#         _ => error(\"Not callable\")\n",
    "#     end\n",
    "# end\n",
    "function ast_walk(ast::SExpr; env=DEFAULT_ENV)\n",
    "    @match ast.expr[1] begin\n",
    "        at(:lambda) => create_lambda(ast, env)\n",
    "        at(:macro)  => Macro(create_lambda(ast, env))\n",
    "        at(:quote)  => ast.expr[2]\n",
    "        _ => begin\n",
    "            item = ast_walk(ast.expr[1], env=env)\n",
    "            @match item begin\n",
    "                _::Function => item(ast_walk.(ast.expr[2:end], env=env)...)\n",
    "                _::Macro    => ast_walk(item(ast.expr[2:end]...), env=env)\n",
    "                _ => error(\"Error: not callable\")\n",
    "            end\n",
    "        end\n",
    "    end\n",
    "end\n",
    "function ast_walk(ast::Atom; env=DEFAULT_ENV)\n",
    "    return atomtype(ast) == Symbol ? env(ast.val) : ast.val\n",
    "end"
   ]
  },
  {
   "cell_type": "code",
   "execution_count": 418,
   "id": "1f266920-5170-46da-a389-4244054494aa",
   "metadata": {},
   "outputs": [
    {
     "data": {
      "text/plain": [
       "21"
      ]
     },
     "execution_count": 418,
     "metadata": {},
     "output_type": "execute_result"
    }
   ],
   "source": [
    "ast_walk(se(:+, se(:*, 3, 4), se(:*, 3, 3)))"
   ]
  },
  {
   "cell_type": "code",
   "execution_count": 419,
   "id": "68301141-95fe-4b95-80fd-23688f8c4470",
   "metadata": {},
   "outputs": [
    {
     "data": {
      "text/plain": [
       "7"
      ]
     },
     "execution_count": 419,
     "metadata": {},
     "output_type": "execute_result"
    }
   ],
   "source": [
    "ast_walk(se(se(:lambda, se(:x,), se(:+, se(:*, :x, 2), 1)), 3))"
   ]
  },
  {
   "cell_type": "code",
   "execution_count": 420,
   "id": "59914d9a-fe27-45eb-8dda-1ccad737a96a",
   "metadata": {},
   "outputs": [
    {
     "data": {
      "text/plain": [
       "8"
      ]
     },
     "execution_count": 420,
     "metadata": {},
     "output_type": "execute_result"
    }
   ],
   "source": [
    "ast_walk(se(se(:macro, se(:x), se(:list, se(:quote, :+), :x, :x)), 4))"
   ]
  },
  {
   "cell_type": "code",
   "execution_count": 421,
   "id": "75bde6db-b5a8-442e-b1a2-6912c2c6717b",
   "metadata": {},
   "outputs": [
    {
     "data": {
      "text/plain": [
       "#723 (generic function with 1 method)"
      ]
     },
     "execution_count": 421,
     "metadata": {},
     "output_type": "execute_result"
    }
   ],
   "source": [
    "ast_walk(se(:lambda, se(:let), se(:let, :x, 3, se(:+, :x, 4))))"
   ]
  },
  {
   "cell_type": "code",
   "execution_count": 422,
   "id": "5d1efa97-2bca-416e-a3ce-ca578aa9b6b2",
   "metadata": {},
   "outputs": [
    {
     "data": {
      "text/plain": [
       "Macro{var\"#723#725\"{SExpr, var\"#721#722\"}}(var\"#723#725\"{SExpr, var\"#721#722\"}(SExpr((Atom{Symbol}(:macro), SExpr((Atom{Symbol}(:name), Atom{Symbol}(:value), Atom{Symbol}(:body))), SExpr((Atom{Symbol}(:list), SExpr((Atom{Symbol}(:list), Atom{Symbol}(:lambda), SExpr((Atom{Symbol}(:name),)), Atom{Symbol}(:body))), Atom{Symbol}(:value))))), var\"#721#722\"()))"
      ]
     },
     "execution_count": 422,
     "metadata": {},
     "output_type": "execute_result"
    }
   ],
   "source": [
    "ast_walk(se(:macro, se(:name, :value, :body), se(:list, se(:list, :lambda, se(:name), :body),  :value)))"
   ]
  },
  {
   "cell_type": "code",
   "execution_count": 423,
   "id": "051296cc-cd15-4bd8-b0eb-295ff6aa1d6e",
   "metadata": {},
   "outputs": [
    {
     "data": {
      "text/plain": [
       "SExpr((Atom{Symbol}(:x), Atom{Symbol}(:y)))"
      ]
     },
     "execution_count": 423,
     "metadata": {},
     "output_type": "execute_result"
    }
   ],
   "source": [
    "ast_walk(se(:quote, se(:x, :y)))"
   ]
  },
  {
   "cell_type": "code",
   "execution_count": 424,
   "id": "889f3cb6-8307-4727-b321-cbfe1d7042ce",
   "metadata": {},
   "outputs": [
    {
     "data": {
      "text/plain": [
       "SExpr((Atom{Symbol}(:lambda), SExpr((Atom{Symbol}(:x),)), SExpr((Atom{Symbol}(:+), Atom{Symbol}(:x), Atom{Int64}(3)))))"
      ]
     },
     "execution_count": 424,
     "metadata": {},
     "output_type": "execute_result"
    }
   ],
   "source": [
    "ast_walk(se(:quote, se(:lambda, se(:x), se(:+, :x, 3))))"
   ]
  },
  {
   "cell_type": "code",
   "execution_count": 425,
   "id": "61f116c0-63e2-46e7-8edf-711ff9922208",
   "metadata": {},
   "outputs": [
    {
     "data": {
      "text/plain": [
       "12"
      ]
     },
     "execution_count": 425,
     "metadata": {},
     "output_type": "execute_result"
    }
   ],
   "source": [
    "ast_walk(\n",
    "    se(se(:lambda, se(:let), se(:let, :x, 3, se(:*, :x, 4))),\n",
    "       se(:macro, se(:name, :value, :body), se(:list, se(:list, se(:quote, :lambda), se(:list, :name), :body),  :value)))\n",
    ")"
   ]
  },
  {
   "cell_type": "code",
   "execution_count": 426,
   "id": "a27eb296-81ae-44c4-bbe1-86a241746866",
   "metadata": {},
   "outputs": [
    {
     "data": {
      "text/plain": [
       "7"
      ]
     },
     "execution_count": 426,
     "metadata": {},
     "output_type": "execute_result"
    }
   ],
   "source": [
    "ast_walk(\n",
    "    se(se(:lambda, se(:let), se(:let, :x, 3, se(:+, :x, 4))),\n",
    "       se(:macro, se(:name, :value, :body), se(:list, se(:list, se(:quote, :lambda), se(:list, :name), :body),  :value)))\n",
    ")"
   ]
  },
  {
   "cell_type": "markdown",
   "id": "1babdb32-8291-400f-ad1e-7e9395c03b79",
   "metadata": {},
   "source": [
    "## Simple Stack Machine\n",
    "\n",
    "Translation as code execution.\n"
   ]
  }
 ],
 "metadata": {
  "kernelspec": {
   "display_name": "Julia 1.8.5",
   "language": "julia",
   "name": "julia-1.8"
  },
  "language_info": {
   "file_extension": ".jl",
   "mimetype": "application/julia",
   "name": "julia",
   "version": "1.8.5"
  }
 },
 "nbformat": 4,
 "nbformat_minor": 5
}
