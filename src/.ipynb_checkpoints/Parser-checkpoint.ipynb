{
 "cells": [
  {
   "cell_type": "code",
   "execution_count": 74,
   "id": "b4e408cf-afb0-4afc-966e-5e5cd345bfeb",
   "metadata": {},
   "outputs": [
    {
     "ename": "LoadError",
     "evalue": "importing Pipe into Main conflicts with an existing identifier",
     "output_type": "error",
     "traceback": [
      "importing Pipe into Main conflicts with an existing identifier",
      ""
     ]
    }
   ],
   "source": [
    "using Pipe"
   ]
  },
  {
   "cell_type": "markdown",
   "id": "22deb03e-17e2-4adb-ad77-99248fcce474",
   "metadata": {},
   "source": [
    "# Parse\n",
    "\n",
    "Language syntax rules:\n",
    "* each syntax rule translates to typed block, i.e. block with type at the beginning:\n",
    "    - types: \n",
    "        - __nl__: new line\n",
    "        - __dot__: dot syntax\n",
    "        - __call__: call syntax \n",
    "        - __index__: get index syntax\n",
    "        - __parentheses__: parentheses \n",
    "        - __square_brackets__: square brackets\n",
    "        - __curly_brackets__: curly brackets\n",
    "* separated symbols:\n",
    "    - example: \n",
    "        ```julia\n",
    "        a+b -> a + b \n",
    "        a: 1 -> a : 1\n",
    "        ```\n",
    "* indents\n",
    "    - example: \n",
    "        ```julia\n",
    "        let fib(n)\n",
    "            a: 1\n",
    "            b: 0\n",
    "            for _ in 0..n\n",
    "                a, b: b, a + b\n",
    "            return b\n",
    "        \n",
    "        (__nl__ let fib(n)\n",
    "            (__nl__ a : 1)\n",
    "            (__nl__ b : 0)\n",
    "            (__nl__ for _ in 0..n\n",
    "                (__nl__ a, b: b, a + b))\n",
    "            (__nl__ return b))\n",
    "        ```\n",
    "    - special rule: \n",
    "        ```julia\n",
    "        if pred\n",
    "              this\n",
    "           pred2\n",
    "              that\n",
    "           else\n",
    "              and this\n",
    "        \n",
    "        # missing indent gets inserted\n",
    "        \n",
    "        if pred\n",
    "          __begin__\n",
    "            this\n",
    "          pred2\n",
    "            that\n",
    "          else\n",
    "            and this\n",
    "        ```\n",
    "* brackets\n",
    "    - example: \n",
    "        ```julia\n",
    "        ((1,2),(1,2)) -> ((1 2) (1 2))\n",
    "        ```\n",
    "* call:\n",
    "    - example:\n",
    "        ```julia\n",
    "        asdf(...) -> (__call__ asdf ...)\n",
    "        asdf[...] -> (__index__ asdf ...)\n",
    "        ```\n",
    "* dot syntax\n",
    "    - example:\n",
    "        ```julia\n",
    "        foo.bar -> (__dot__ foo bar)\n",
    "        foo.bar.baz -> (__dot__ (__dot__ foo bar) baz)\n",
    "        ```\n",
    "    - example with call:\n",
    "        ```julia\n",
    "        foo.bar(...) -1-> foo.(bar ...) -2-> (__dot__ foo (bar ...))\n",
    "        ```"
   ]
  },
  {
   "cell_type": "markdown",
   "id": "301aa967-83f6-4460-8275-59c984c41969",
   "metadata": {},
   "source": [
    "Special symbols:"
   ]
  },
  {
   "cell_type": "code",
   "execution_count": 107,
   "id": "1d72f7e1-dd77-4b28-92eb-c4d15b968d44",
   "metadata": {},
   "outputs": [
    {
     "data": {
      "text/plain": [
       "4-element Vector{String}:\n",
       " \"a: c+d\\n: a c+d\\n\"\n",
       " \"let fib(n)\\n    a: 1\\n    b: 0\\n  \" ⋯ 19 bytes ⋯ \"     a, b: b, a+b\\n    return b\\n\"\n",
       " \"if a = 1\\n     println 3\\n   a = 2\\n     println 2\\n   else\\n     println 1\\n\"\n",
       " \"a()\\na(b)\\na(b())\\na(b)(c)\\na(b(c))\" ⋯ 136 bytes ⋯ \")\\n(a)(b)\\n[a](b)\\n(a)[b]\\n[a][b]\\n\""
      ]
     },
     "execution_count": 107,
     "metadata": {},
     "output_type": "execute_result"
    }
   ],
   "source": [
    "TESTS = [\n",
    "    \"\"\"\n",
    "    a: c+d\n",
    "    : a c+d\n",
    "    \"\"\",\n",
    "    \"\"\"\n",
    "    let fib(n)\n",
    "        a: 1\n",
    "        b: 0\n",
    "        for _ in 0..n\n",
    "            a, b: b, a+b\n",
    "        return b\n",
    "    \"\"\",\n",
    "    \"\"\"\n",
    "    if a = 1\n",
    "         println 3\n",
    "       a = 2\n",
    "         println 2\n",
    "       else\n",
    "         println 1\n",
    "    \"\"\",\n",
    "    \"\"\"\n",
    "    a()\n",
    "    a(b)\n",
    "    a(b())\n",
    "    a(b)(c)\n",
    "    a(b(c))\n",
    "    a(b(c),d) \n",
    "    \n",
    "    a.b\n",
    "    a.b()\n",
    "    a.b(c)\n",
    "    a.b.c\n",
    "    a.b().c\n",
    "    a.b(c).d\n",
    "    \n",
    "    a[]\n",
    "    a[b]\n",
    "    a[b[]]\n",
    "    a[b[c]]\n",
    "    a[b[c],d] \n",
    "    a.b\n",
    "    a.b[]\n",
    "    a.b[c]\n",
    "    a.b.c\n",
    "    a.b[].c\n",
    "    a.b[c].d\n",
    "    \n",
    "    a(b[c])\n",
    "    (a)(b)\n",
    "    [a](b)\n",
    "    (a)[b]\n",
    "    [a][b]\n",
    "    \"\"\",\n",
    "]"
   ]
  },
  {
   "cell_type": "code",
   "execution_count": 108,
   "id": "d3ffc479-061b-44cf-b012-8230896aad9a",
   "metadata": {},
   "outputs": [
    {
     "data": {
      "text/plain": [
       "2-element Vector{Tuple{String, String, String}}:\n",
       " (\"(\", \")\", \"__call__\")\n",
       " (\"[\", \"]\", \"__index__\")"
      ]
     },
     "execution_count": 108,
     "metadata": {},
     "output_type": "execute_result"
    }
   ],
   "source": [
    "SEPARATED_SYMBOLS = [\n",
    "    \"+\" => \"__plus__\",\n",
    "    \"-\" => \"__minus__\",\n",
    "    \"*\" => \"__asterisk__\",\n",
    "    \"/\" => \"__slash__\",\n",
    "    \"^\" => \"__circumflex_accent__\", \n",
    "    \"=\" => \"__equal_sign__\",\n",
    "    \">\" => \"__greater-than_sign__\",\n",
    "    \"<\" => \"__less-than_sign__\",\n",
    "    \":\" => \"__colon__\", \n",
    "    \";\" => \"__semicolon__\",\n",
    "   \"..\" => \"__double_dot__\",\n",
    "    \".\" => \"__dot__\", \n",
    "    \",\" => \"__comma__\", \n",
    "]\n",
    "\n",
    "CALLS = [\n",
    "    (\"(\", \")\", \"__call__\"),\n",
    "    (\"[\", \"]\", \"__index__\"),\n",
    "]"
   ]
  },
  {
   "cell_type": "code",
   "execution_count": 109,
   "id": "e42a476a-5cc3-4a35-af7b-e1c6f177fb0f",
   "metadata": {},
   "outputs": [
    {
     "data": {
      "text/plain": [
       "calls_indexes (generic function with 2 methods)"
      ]
     },
     "execution_count": 109,
     "metadata": {},
     "output_type": "execute_result"
    }
   ],
   "source": [
    "function separate_symbols(str, SEPARATED_SYMBOLS=SEPARATED_SYMBOLS)\n",
    "    for (k,v) in SEPARATED_SYMBOLS\n",
    "        str = replace(str, Regex(\"(\\\\S)\\\\$k\") => SubstitutionString(\"\\\\1 $v \"))\n",
    "        str = replace(str, Regex(\"(\\\\s)\\\\$k\") => SubstitutionString(\"\\\\1$v \"))\n",
    "    end\n",
    "    return str\n",
    "end\n",
    "\n",
    "function calls_indexes(str, CALLS=CALLS)\n",
    "    for (k,t,v) in CALLS\n",
    "        str = replace(str, k => \"$k \")\n",
    "        str = replace(str, Regex(\"(\\\\S+)\\\\$k\") => SubstitutionString(\"( $v \\\\1\"))\n",
    "        str = replace(str, Regex(\"\\\\$t\") => \" ) \")\n",
    "    end\n",
    "    return str\n",
    "end "
   ]
  },
  {
   "cell_type": "code",
   "execution_count": 110,
   "id": "b28aa07d-45da-43c7-b1aa-9eefa809b91b",
   "metadata": {},
   "outputs": [
    {
     "name": "stdout",
     "output_type": "stream",
     "text": [
      "a __colon__  c __plus__ d\n",
      "__colon__  a c __plus__ d\n"
     ]
    }
   ],
   "source": [
    "print(separate_symbols(TESTS[1]))"
   ]
  },
  {
   "cell_type": "code",
   "execution_count": null,
   "id": "f94fcbbf-90b1-44ba-9bca-455944923e61",
   "metadata": {},
   "outputs": [],
   "source": []
  },
  {
   "cell_type": "code",
   "execution_count": 111,
   "id": "64e12bad-f223-4205-ab7c-fb1098ef271b",
   "metadata": {},
   "outputs": [
    {
     "data": {
      "text/plain": [
       "\"a()\\na(b)\\na(b())\\na(b)(c)\\na(b(c))\\na(b(c),d) \\n\\na.b\\na.b()\\na.b(c)\\na.b.c\\na.b().c\\na.b(c).d\\n\\na[]\\na[b]\\na[b[]]\\na[b[c]]\\na[b[c],d] \\na.b\\na.b[]\\na.b[c]\\na.b.c\\na.b[].c\\na.b[c].d\\n\\na(b[c])\\n(a)(b)\\n[a](b)\\n(a)[b]\\n[a][b]\\n\""
      ]
     },
     "execution_count": 111,
     "metadata": {},
     "output_type": "execute_result"
    }
   ],
   "source": [
    "test = TESTS[4]"
   ]
  },
  {
   "cell_type": "code",
   "execution_count": 129,
   "id": "a2eb360e-df07-4fcd-8c1d-9db2aa39d054",
   "metadata": {},
   "outputs": [
    {
     "name": "stdout",
     "output_type": "stream",
     "text": [
      "a()\n",
      "a(b)\n",
      "a(b())\n",
      "a(b)(c)\n",
      "a(b(c))\n",
      "a(b(c),d) \n",
      "\n",
      "a.b\n",
      "a.b()\n",
      "a.b(c)\n",
      "a.b.c\n",
      "a.b().c\n",
      "a.b(c).d\n",
      "\n",
      "a[]\n",
      "a[b]\n",
      "a[b[]]\n",
      "a[b[c]]\n",
      "a[b[c],d] \n",
      "a.b\n",
      "a.b[]\n",
      "a.b[c]\n",
      "a.b.c\n",
      "a.b[].c\n",
      "a.b[c].d\n",
      "\n",
      "a(b[c])\n",
      "(a)(b)\n",
      "[a](b)\n",
      "(a)[b]\n",
      "[a][b]\n",
      "\n",
      "----------------------------------------------------------------------------------------------------\n",
      "\n",
      "( __call__ a  )\n",
      "( __call__ a b )\n",
      "( __call__ a ( __call__ b  ) )\n",
      "( __call__ ( __call__ a b ) c )\n",
      "( __call__ a ( __call__ b c ) )\n",
      "( __call__ a ( __call__ b c ) , d ) \n",
      "\n",
      "( __dot__ a b )\n",
      "( __dot__ a ( __call__ b  ) )\n",
      "( __dot__ a ( __call__ b c ) )\n",
      "( __dot__ ( __dot__ a b ) c )\n",
      "( __dot__ ( __dot__ a ( __call__ b  ) ) c )\n",
      "( __dot__ ( __dot__ a ( __call__ b c ) ) d )\n",
      "\n",
      "( __index__ a  )\n",
      "( __index__ a b )\n",
      "( __index__ a ( __index__ b  ) )\n",
      "( __index__ a ( __index__ b c ) )\n",
      "( __index__ a ( __index__ b c ) , d ) \n",
      "( __dot__ a b )\n",
      "( __dot__ a ( __index__ b  ) )\n",
      "( __dot__ a ( __index__ b c ) )\n",
      "( __dot__ ( __dot__ a b ) c )\n",
      "( __dot__ ( __dot__ a ( __index__ b  ) ) c )\n",
      "( __dot__ ( __dot__ a ( __index__ b c ) ) d )\n",
      "\n",
      "( __call__ a ( __index__ b c ) )\n",
      "( __call__ (a) b )\n",
      "( __call__ [a] b )\n",
      "( __index__ (a) b )\n",
      "( __index__ [a] b )\n"
     ]
    }
   ],
   "source": [
    "converge(f, xₙ) = (xₙ₊₁ = f(xₙ); xₙ₊₁ == xₙ ? xₙ₊₁ : converge(f, xₙ₊₁))\n",
    "\n",
    "# rs__lb__ = r\"([\\(\\[])\" => s\"\\1 \"\n",
    "rs__sepsym__ = r\"(\\S)([\\+\\-\\*\\/\\^\\@\\=\\>\\<\\:\\;\\,])\" => s\"\\1 \\2 \"\n",
    "rs__sepsymbegin__ = r\"(\\s)([\\+\\-\\*\\/\\^\\@\\=\\>\\<\\:\\;\\,])\" => s\"\\1\\2 \"\n",
    "rs__call__   = r\"(?<l>(?<rec0>\\((?>[^\\(\\)\\[\\]]+|\\g<rec0>|\\g<rec1>?)+\\))|(?<rec1>\\[(?>[^\\(\\)\\[\\]]+|\\g<rec0>|\\g<rec1>?)+\\])|[^\\(\\)\\[\\]\\s\\.\\,]+)(?<rec2>\\((?<j>(?>[^\\(\\)]+|\\g<rec2>?)+)\\))\" => s\"( __call__ \\g<l> \\g<j> )\"\n",
    "rs__index__  = r\"(?<l>(?<rec0>\\((?>[^\\(\\)\\[\\]]+|\\g<rec0>|\\g<rec1>?)+\\))|(?<rec1>\\[(?>[^\\(\\)\\[\\]]+|\\g<rec0>|\\g<rec1>?)+\\])|[^\\(\\)\\[\\]\\s\\.\\,]+)(?<rec2>\\[(?<j>(?>[^\\[\\]]+|\\g<rec2>?)+)\\])\" => s\"( __index__ \\g<l> \\g<j> )\"\n",
    "rs__dot__ = r\"(?<l>(?<rec>\\((?>[^\\(\\)]+|\\g<rec>?)+\\))|[^\\(\\)\\s\\.\\,]+)\\.(?<r>\\g<rec>|[^\\(\\)\\s\\.\\,]+)\" => s\"( __dot__ \\g<l> \\g<r> )\"\n",
    "println(test)\n",
    "println(\"-\"^100, '\\n')\n",
    "@pipe test |> \n",
    "    # replace(_, rs__lb__) |>\n",
    "    replace(_, rs__sepsymbegin__) |>\n",
    "    replace(_, rs__sepsym__) |>\n",
    "    converge(t -> replace(t, rs__index__), _) |>\n",
    "    converge(t -> replace(t, rs__call__), _) |> \n",
    "    converge(t -> replace(t,  rs__dot__), _) |> \n",
    "    print"
   ]
  },
  {
   "cell_type": "code",
   "execution_count": null,
   "id": "9bb0e666-fdae-4471-bacf-aa4bd3922357",
   "metadata": {},
   "outputs": [],
   "source": []
  },
  {
   "cell_type": "code",
   "execution_count": null,
   "id": "829c4cc4-cf20-4c14-b41a-a1db32fd5dfd",
   "metadata": {},
   "outputs": [],
   "source": []
  },
  {
   "cell_type": "code",
   "execution_count": null,
   "id": "f68cbbdd-9db9-461f-a046-5a86b3fa7a58",
   "metadata": {},
   "outputs": [],
   "source": []
  }
 ],
 "metadata": {
  "kernelspec": {
   "display_name": "Julia 1.8.4",
   "language": "julia",
   "name": "julia-1.8"
  },
  "language_info": {
   "file_extension": ".jl",
   "mimetype": "application/julia",
   "name": "julia",
   "version": "1.8.4"
  }
 },
 "nbformat": 4,
 "nbformat_minor": 5
}
