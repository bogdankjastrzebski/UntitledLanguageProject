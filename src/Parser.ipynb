{
 "cells": [
  {
   "cell_type": "code",
   "execution_count": 1,
   "id": "b4e408cf-afb0-4afc-966e-5e5cd345bfeb",
   "metadata": {},
   "outputs": [],
   "source": [
    "using Pipe\n",
    "using Match"
   ]
  },
  {
   "cell_type": "markdown",
   "id": "22deb03e-17e2-4adb-ad77-99248fcce474",
   "metadata": {},
   "source": [
    "# Parse\n",
    "\n",
    "Language syntax rules:\n",
    "* each syntax rule translates to typed block, i.e. block with type at the beginning:\n",
    "    - types: \n",
    "        - __nl__: new line\n",
    "        - __dot__: dot syntax\n",
    "        - __call__: call syntax \n",
    "        - __index__: get index syntax\n",
    "        - __parentheses__: parentheses \n",
    "        - __square_brackets__: square brackets\n",
    "        - __curly_brackets__: curly brackets\n",
    "* separated symbols:\n",
    "    - example: \n",
    "        ```julia\n",
    "        a+b -> a + b \n",
    "        a: 1 -> a : 1\n",
    "        ```\n",
    "* indents\n",
    "    - example: \n",
    "        ```julia\n",
    "        let fib(n)\n",
    "            a: 1\n",
    "            b: 0\n",
    "            for _ in 0..n\n",
    "                a, b: b, a + b\n",
    "            return b\n",
    "        \n",
    "        (__nl__ let fib(n)\n",
    "            (__nl__ a : 1)\n",
    "            (__nl__ b : 0)\n",
    "            (__nl__ for _ in 0..n\n",
    "                (__nl__ a, b: b, a + b))\n",
    "            (__nl__ return b))\n",
    "        ```\n",
    "    - special rule: \n",
    "        ```julia\n",
    "        if pred\n",
    "              this\n",
    "           pred2\n",
    "              that\n",
    "           else\n",
    "              and this\n",
    "        \n",
    "        # missing indent gets inserted\n",
    "        \n",
    "        if pred\n",
    "          __begin__\n",
    "            this\n",
    "          pred2\n",
    "            that\n",
    "          else\n",
    "            and this\n",
    "        ```\n",
    "* brackets\n",
    "    - example: \n",
    "        ```julia\n",
    "        ((1,2),(1,2)) -> ((1 2) (1 2))\n",
    "        ```\n",
    "* call:\n",
    "    - example:\n",
    "        ```julia\n",
    "        asdf(...) -> (__call__ asdf ...)\n",
    "        asdf[...] -> (__index__ asdf ...)\n",
    "        ```\n",
    "* dot syntax\n",
    "    - example:\n",
    "        ```julia\n",
    "        foo.bar -> (__dot__ foo bar)\n",
    "        foo.bar.baz -> (__dot__ (__dot__ foo bar) baz)\n",
    "        ```\n",
    "    - example with call:\n",
    "        ```julia\n",
    "        foo.bar(...) -1-> foo.(bar ...) -2-> (__dot__ foo (bar ...))\n",
    "        ```"
   ]
  },
  {
   "cell_type": "markdown",
   "id": "301aa967-83f6-4460-8275-59c984c41969",
   "metadata": {},
   "source": [
    "Special symbols:"
   ]
  },
  {
   "cell_type": "code",
   "execution_count": 49,
   "id": "1d72f7e1-dd77-4b28-92eb-c4d15b968d44",
   "metadata": {},
   "outputs": [
    {
     "data": {
      "text/plain": [
       "4-element Vector{String}:\n",
       " \"a:c+d\\n:a c+d\\n\"\n",
       " \"let fib(n)\\n    a: 1\\n    b: 0\\n  \" ⋯ 19 bytes ⋯ \"     a, b: b, a+b\\n    return b\\n\"\n",
       " \"if a = 1\\n     println 3\\n   a = 2\\n     println(2)\\n   else\\n     println 1\\n\"\n",
       " \"__begin__\\n    a()\\n    a(b)\\n    \" ⋯ 305 bytes ⋯ \" (x) 3)\\n    a[b](c)\\n    [[a]]\\n\""
      ]
     },
     "execution_count": 49,
     "metadata": {},
     "output_type": "execute_result"
    }
   ],
   "source": [
    "TESTS = [\n",
    "    \"\"\"\n",
    "    a:c+d\n",
    "    :a c+d\n",
    "    \"\"\",\n",
    "    \"\"\"\n",
    "    let fib(n)\n",
    "        a: 1\n",
    "        b: 0\n",
    "        for _ in 0..n\n",
    "            a, b: b, a+b\n",
    "        return b\n",
    "    \"\"\",\n",
    "    \"\"\"\n",
    "    if a = 1\n",
    "         println 3\n",
    "       a = 2\n",
    "         println(2)\n",
    "       else\n",
    "         println 1\n",
    "    \"\"\",\n",
    "    \"\"\"\n",
    "    __begin__\n",
    "        a()\n",
    "        a(b)\n",
    "        a(b())\n",
    "        a(b)(c)\n",
    "        a(b(c))\n",
    "        a(b(c),d) \n",
    "        a.b\n",
    "        a.b()\n",
    "        a.b(c)\n",
    "        a.b.c\n",
    "        a.b().c\n",
    "        a.b(c).d\n",
    "        a[]\n",
    "        a[b]\n",
    "        a[b[]]\n",
    "        a[b[c]]\n",
    "        a[b[c],d] \n",
    "        a.b\n",
    "        a.b[]\n",
    "        a.b[c]\n",
    "        a.b.c\n",
    "        a.b[].c\n",
    "        a.b[c].d\n",
    "        a(b[c])\n",
    "        (a)(b)\n",
    "        [a](b)\n",
    "        (a)[b]\n",
    "        [a][b]\n",
    "        (x) \n",
    "        (lambda (x) 3)\n",
    "        a[b](c)\n",
    "        [[a]]\n",
    "    \"\"\",\n",
    "]"
   ]
  },
  {
   "cell_type": "code",
   "execution_count": 50,
   "id": "d3ffc479-061b-44cf-b012-8230896aad9a",
   "metadata": {},
   "outputs": [
    {
     "data": {
      "text/plain": [
       "2-element Vector{Tuple{String, String, String}}:\n",
       " (\"(\", \")\", \"__call__\")\n",
       " (\"[\", \"]\", \"__index__\")"
      ]
     },
     "execution_count": 50,
     "metadata": {},
     "output_type": "execute_result"
    }
   ],
   "source": [
    "SEPARATED_SYMBOLS = [\n",
    "    \"+\" => \"__plus__\",\n",
    "    \"-\" => \"__minus__\",\n",
    "    \"*\" => \"__asterisk__\",\n",
    "    \"/\" => \"__slash__\",\n",
    "    \"^\" => \"__circumflex_accent__\", \n",
    "    \"=\" => \"__equal_sign__\",\n",
    "    \">\" => \"__greater_than_sign__\",\n",
    "    \"<\" => \"__less_than_sign__\",\n",
    "    \":\" => \"__colon__\", \n",
    "    \";\" => \"__semicolon__\",\n",
    "   \"..\" => \"__double_dot__\",\n",
    "    \".\" => \"__dot__\", \n",
    "    \",\" => \"__comma__\", \n",
    "]\n",
    "\n",
    "CALLS = [\n",
    "    (\"(\", \")\", \"__call__\"),\n",
    "    (\"[\", \"]\", \"__index__\"),\n",
    "]"
   ]
  },
  {
   "cell_type": "code",
   "execution_count": 60,
   "id": "9bb0e666-fdae-4471-bacf-aa4bd3922357",
   "metadata": {},
   "outputs": [
    {
     "data": {
      "text/plain": [
       "pretty_print (generic function with 3 methods)"
      ]
     },
     "execution_count": 60,
     "metadata": {},
     "output_type": "execute_result"
    }
   ],
   "source": [
    "function to_line_tokens(str)\n",
    "    lines = split(str, '\\n')\n",
    "    return collect(zip((x -> x isa Nothing ? 1 : x).(findfirst.(!=(' '), lines)), split.(lines)))\n",
    "end\n",
    "\n",
    "function get_brackets!(line)\n",
    "    c = 0\n",
    "    ret = []\n",
    "    while !isempty(line)\n",
    "        if line[1] == \"(\"\n",
    "            popfirst!(line)\n",
    "            push!(ret, get_brackets!(line))\n",
    "        elseif line[1] == \")\"\n",
    "            popfirst!(line)\n",
    "            break\n",
    "        else\n",
    "            push!(ret, popfirst!(line))\n",
    "        end\n",
    "    end\n",
    "    return (ret...,)\n",
    "end\n",
    "\n",
    "function get_block!(lines)\n",
    "    \n",
    "    h, ts = popfirst!(lines)\n",
    "    ts = get_brackets!(ts)\n",
    "    if isempty(lines) || lines[1][1] <= h\n",
    "        return (\"__nl__\", ts...) \n",
    "    end\n",
    "        \n",
    "    # Check if the __begin__ block should be added \n",
    "    hmin = lines[1][1]\n",
    "    i = 1\n",
    "    while i <= length(lines) &&  h < lines[i][1]\n",
    "        hmin = min(lines[i][1], hmin)\n",
    "        i += 1\n",
    "    end \n",
    "    if hmin < lines[1][1]\n",
    "        pushfirst!(lines, (hmin, [SubString(\"__begin__\")]))\n",
    "    end\n",
    "    \n",
    "    # Add Blocks\n",
    "    blocks = Any[]\n",
    "    while !isempty(lines) && lines[1][1] > h\n",
    "        push!(blocks, get_block!(lines))\n",
    "    end\n",
    "    return (\"__nl__\", ts..., blocks...)\n",
    "\n",
    "end \n",
    "\n",
    "# function parser(str)\n",
    "#     converge(f, xₙ) = (xₙ₊₁ = f(xₙ); xₙ₊₁ == xₙ ? xₙ₊₁ : converge(f, xₙ₊₁))\n",
    "#     rs__sepsym__ = r\"(\\S)([\\+\\-\\*\\/\\^\\@\\=\\>\\<\\:\\;\\,]|(\\.\\.))\" => s\"\\1 \\2 \"\n",
    "#     rs__sepsymbegin__ = r\"(^|\\s)([\\+\\-\\*\\/\\^\\@\\=\\>\\<\\:\\;\\,])\" => s\"\\1\\2 \"\n",
    "#     rs__tuple__  = r\"(^|[\\(\\[\\s\\.])(?<rec>\\((?<n>(?>[^\\(\\)]+|\\g<rec>?)+)\\))\" => s\"\\1( __tuple__ \\g<n> )\"\n",
    "#     rs__list__   = r\"(^|[\\(\\[\\s\\.])(?<rec>\\[(?<n>(?>[^\\[\\]]+|\\g<rec>?)+)\\])\" => s\"\\1( __list__ \\g<n> )\"\n",
    "#     rs__call__   = r\"(?<l>(?<rec0>\\((?>[^\\(\\)\\[\\]]+|\\g<rec0>|\\g<rec1>?)+\\))|(?<rec1>\\[(?>[^\\(\\)\\[\\]]+|\\g<rec0>|\\g<rec1>?)+\\])|[^\\(\\)\\[\\]\\s\\.]+)(?<rec2>\\((?<j>(?>[^\\(\\)]+|\\g<rec2>?)+)\\))\" => s\"( __call__ \\g<l> \\g<j> )\"\n",
    "#     rs__index__  = r\"(?<l>(?<rec0>\\((?>[^\\(\\)\\[\\]]+|\\g<rec0>|\\g<rec1>?)+\\))|(?<rec1>\\[(?>[^\\(\\)\\[\\]]+|\\g<rec0>|\\g<rec1>?)+\\])|[^\\(\\)\\[\\]\\s\\.]+)(?<rec2>\\[(?<j>(?>[^\\[\\]]+|\\g<rec2>?)+)\\])\" => s\"( __index__ \\g<l> \\g<j> )\"\n",
    "#     rs__dot__ = r\"(?<l>(?<rec>\\((?>[^\\(\\)]+|\\g<rec>?)+\\))|[^\\(\\)\\s\\.]+)\\.(?<r>\\g<rec>|[^\\(\\)\\s\\.]+)\" => s\"( __dot__ \\g<l> \\g<r> )\"\n",
    "#     return @pipe str |> \n",
    "#         replace(_, rs__sepsymbegin__) |>\n",
    "#         replace(_, rs__sepsym__) |>\n",
    "#         replace(_, rs__tuple__) |> \n",
    "#         replace(_, rs__list__) |> \n",
    "#         converge(t -> replace(t, rs__index__), _) |>\n",
    "#         converge(t -> replace(t,  rs__call__), _) |> \n",
    "#         converge(t -> replace(t,   rs__dot__), _) |> \n",
    "#         to_line_tokens |> \n",
    "#         get_block!\n",
    "# end\n",
    "\n",
    "function parser(str)\n",
    "    converge(f, xₙ) = (xₙ₊₁ = f(xₙ); xₙ₊₁ == xₙ ? xₙ₊₁ : converge(f, xₙ₊₁))\n",
    "    rs__sepsym__ = r\"(\\S)([\\+\\-\\*\\/\\^\\@\\=\\>\\<\\:\\;\\,]|(\\.\\.))\" => s\"\\1 \\2 \"\n",
    "    rs__sepsymbegin__ = r\"(^|\\s)([\\+\\-\\*\\/\\^\\@\\=\\>\\<\\:\\;\\,])\" => s\"\\1\\2 \"\n",
    "    rs__tuple__  = r\"(^|[\\(\\[\\s\\.])(?<rec>\\((?!\\s__tuple__)(?<n>(?>[^\\(\\)]+|\\g<rec>?)+)\\))\" => s\"\\1( __tuple__ \\g<n> )\"\n",
    "    rs__list__   = r\"(^|[\\(\\[\\s\\.])(?<rec>\\[(?<n>(?>[^\\[\\]]+|\\g<rec>?)+)\\])\" => s\"\\1( __list__ \\g<n> )\"\n",
    "    rs__call__   = r\"(?<l>(?<rec0>\\((?>[^\\(\\)\\[\\]]+|\\g<rec0>|\\g<rec1>?)+\\))|(?<rec1>\\[(?>[^\\(\\)\\[\\]]+|\\g<rec0>|\\g<rec1>?)+\\])|[^\\(\\)\\[\\]\\s\\.]+)(?<rec2>\\((?<j>(?>[^\\(\\)]+|\\g<rec2>?)+)\\))\" => s\"( __call__ \\g<l> \\g<j> )\"\n",
    "    rs__index__  = r\"(?<l>(?<rec0>\\((?>[^\\(\\)\\[\\]]+|\\g<rec0>|\\g<rec1>?)+\\))|(?<rec1>\\[(?>[^\\(\\)\\[\\]]+|\\g<rec0>|\\g<rec1>?)+\\])|[^\\(\\)\\[\\]\\s\\.]+)(?<rec2>\\[(?<j>(?>[^\\[\\]]+|\\g<rec2>?)+)\\])\" => s\"( __index__ \\g<l> \\g<j> )\"\n",
    "    rs__dot__ = r\"(?<l>(?<rec>\\((?>[^\\(\\)]+|\\g<rec>?)+\\))|[^\\(\\)\\s\\.]+)\\.(?<r>\\g<rec>|[^\\(\\)\\s\\.]+)\" => s\"( __dot__ \\g<l> \\g<r> )\"\n",
    "    return @pipe str |> \n",
    "        replace(_, rs__sepsymbegin__) |>\n",
    "        replace(_, rs__sepsym__) |>\n",
    "        converge(t -> replace(t, rs__tuple__), _) |> \n",
    "        converge(t -> replace(t, rs__list__), _) |> \n",
    "        converge(t -> replace(t, rs__index__), _) |>\n",
    "        converge(t -> replace(t,  rs__call__), _) |> \n",
    "        converge(t -> replace(t,   rs__dot__), _) |> \n",
    "        to_line_tokens |> \n",
    "        get_block!\n",
    "end\n",
    "\n",
    "# function parser(str)\n",
    "#     converge(f, xₙ) = (xₙ₊₁ = f(xₙ); xₙ₊₁ == xₙ ? xₙ₊₁ : converge(f, xₙ₊₁))\n",
    "#     rs__sepsym__ = r\"(\\S)([\\+\\-\\*\\/\\^\\@\\=\\>\\<\\:\\;\\,]|(\\.\\.))\" => s\"\\1 \\2 \"\n",
    "#     rs__sepsymbegin__ = r\"(^|\\s)([\\+\\-\\*\\/\\^\\@\\=\\>\\<\\:\\;\\,])\" => s\"\\1\\2 \"\n",
    "#     rs__tuple__  = r\"(^|[\\(\\[\\s\\.])(?<rec>\\((?<n>(?>[^\\(\\)]+|\\g<rec>?)+)\\))\" => s\"\\1__bra__ __tuple__ \\g<n> __ket__\"\n",
    "#     rs__list__   = r\"(^|[\\(\\[\\s\\.])(?<rec>\\[(?<n>(?>[^\\[\\]]+|\\g<rec>?)+)\\])\" => s\"\\1__bra__ __list__ \\g<n> __ket__\"\n",
    "#     rs__call__   = r\"(?<l>(?<rec0>\\((?>[^\\(\\)\\[\\]]+|\\g<rec0>|\\g<rec1>?)+\\))|(?<rec1>\\[(?>[^\\(\\)\\[\\]]+|\\g<rec0>|\\g<rec1>?)+\\])|[^\\(\\)\\[\\]\\s\\.]+)(?<rec2>\\((?<j>(?>[^\\(\\)]+|\\g<rec2>?)+)\\))\" => s\"__bra__ __call__ \\g<l> \\g<j> __ket__\"\n",
    "#     rs__index__  = r\"(?<l>(?<rec0>\\((?>[^\\(\\)\\[\\]]+|\\g<rec0>|\\g<rec1>?)+\\))|(?<rec1>\\[(?>[^\\(\\)\\[\\]]+|\\g<rec0>|\\g<rec1>?)+\\])|[^\\(\\)\\[\\]\\s\\.]+)(?<rec2>\\[(?<j>(?>[^\\[\\]]+|\\g<rec2>?)+)\\])\" => s\"__bra__ __index__ \\g<l> \\g<j> __ket__\"\n",
    "#     rs__dot__ = r\"(?<l>(?<rec>\\((?>[^\\(\\)]+|\\g<rec>?)+\\))|[^\\(\\)\\s\\.]+)\\.(?<r>\\g<rec>|[^\\(\\)\\s\\.]+)\" => s\"__bra__ __dot__ \\g<l> \\g<r> __ket__\"\n",
    "#     return @pipe str |> \n",
    "#         replace(_, rs__sepsymbegin__) |>\n",
    "#         replace(_, rs__sepsym__) |>\n",
    "#         converge(t -> replace(t, rs__tuple__), _) |> \n",
    "#         converge(t -> replace(t,  rs__list__), _) |> \n",
    "#         converge(t -> replace(t, rs__index__), _) |>\n",
    "#         converge(t -> replace(t,  rs__call__), _) |> \n",
    "#         converge(t -> replace(t,   rs__dot__), _) |> \n",
    "#         to_line_tokens |> \n",
    "#         get_block!\n",
    "# end\n",
    "\n",
    "function pretty_str(ast::Union{String, SubString}, height=0, indent=3)\n",
    "    return ast == \"__bra__\" ? \"(\" : ast == \"__ket__\" ? \")\" : ast\n",
    "end\n",
    "\n",
    "function pretty_str(ast, height=0, indent=3)\n",
    "    # println(ast)\n",
    "    return @match ast[1] begin\n",
    "        \"__nl__\" => '\\n' * ' '^height * join(pretty_str.(ast[2:end], height+indent, indent), ' ')\n",
    "        \"__call__\"  => pretty_str(ast[2], height, indent) * \"(\" * join(pretty_str.(ast[3:end], height, indent), ' ') * \")\"\n",
    "        \"__index__\" => pretty_str(ast[2], height, indent) * \"[\" * join(pretty_str.(ast[3:end], height, indent), ' ') * \"]\"\n",
    "        \"__tuple__\" => \"(\" * join(pretty_str.(ast[2:end], height, indent), ' ') * \")\"\n",
    "        \"__list__\" => \"[\" * join(pretty_str.(ast[2:end], height, indent), ' ') * \"]\"\n",
    "        \"__dot__\" => pretty_str(ast[2], height, indent) * '.' * pretty_str(ast[3], height, indent)\n",
    "    end\n",
    "end\n",
    "function pretty_print(ast, height=0, indent=3)\n",
    "    print(pretty_str(ast, height, indent))\n",
    "end"
   ]
  },
  {
   "cell_type": "code",
   "execution_count": null,
   "id": "4a91cb83-5989-4f2d-8e79-656db1b8fbed",
   "metadata": {},
   "outputs": [],
   "source": []
  },
  {
   "cell_type": "code",
   "execution_count": 61,
   "id": "9faa7119-e32a-4284-ab93-d8b87c60d17a",
   "metadata": {},
   "outputs": [
    {
     "data": {
      "text/plain": [
       "(\"__nl__\", \"__begin__\", (\"__nl__\", (\"__call__\", \"a\")), (\"__nl__\", (\"__call__\", \"a\", \"b\")), (\"__nl__\", (\"__call__\", \"a\", (\"__call__\", \"b\"))), (\"__nl__\", (\"__call__\", (\"__call__\", \"a\", \"b\"), \"c\")), (\"__nl__\", (\"__call__\", \"a\", (\"__call__\", \"b\", \"c\"))), (\"__nl__\", (\"__call__\", \"a\", (\"__call__\", \"b\", \"c\"), \",\", \"d\")), (\"__nl__\", (\"__dot__\", \"a\", \"b\")), (\"__nl__\", (\"__dot__\", \"a\", (\"__call__\", \"b\"))), (\"__nl__\", (\"__dot__\", \"a\", (\"__call__\", \"b\", \"c\"))), (\"__nl__\", (\"__dot__\", (\"__dot__\", \"a\", \"b\"), \"c\")), (\"__nl__\", (\"__dot__\", (\"__dot__\", \"a\", (\"__call__\", \"b\")), \"c\")), (\"__nl__\", (\"__dot__\", (\"__dot__\", \"a\", (\"__call__\", \"b\", \"c\")), \"d\")), (\"__nl__\", (\"__index__\", \"a\")), (\"__nl__\", (\"__index__\", \"a\", \"b\")), (\"__nl__\", (\"__index__\", \"a\", (\"__index__\", \"b\"))), (\"__nl__\", (\"__index__\", \"a\", (\"__index__\", \"b\", \"c\"))), (\"__nl__\", (\"__index__\", \"a\", (\"__index__\", \"b\", \"c\"), \",\", \"d\")), (\"__nl__\", (\"__dot__\", \"a\", \"b\")), (\"__nl__\", (\"__dot__\", \"a\", (\"__index__\", \"b\"))), (\"__nl__\", (\"__dot__\", \"a\", (\"__index__\", \"b\", \"c\"))), (\"__nl__\", (\"__dot__\", (\"__dot__\", \"a\", \"b\"), \"c\")), (\"__nl__\", (\"__dot__\", (\"__dot__\", \"a\", (\"__index__\", \"b\")), \"c\")), (\"__nl__\", (\"__dot__\", (\"__dot__\", \"a\", (\"__index__\", \"b\", \"c\")), \"d\")), (\"__nl__\", (\"__call__\", \"a\", (\"__index__\", \"b\", \"c\"))), (\"__nl__\", (\"__call__\", (\"__tuple__\", \"a\"), \"b\")), (\"__nl__\", (\"__call__\", (\"__list__\", \"a\"), \"b\")), (\"__nl__\", (\"__index__\", (\"__tuple__\", \"a\"), \"b\")), (\"__nl__\", (\"__index__\", (\"__list__\", \"a\"), \"b\")), (\"__nl__\", (\"__tuple__\", \"x\")), (\"__nl__\", (\"__tuple__\", \"lambda\", (\"__tuple__\", \"x\"), \"3\")), (\"__nl__\", (\"__call__\", (\"__index__\", \"a\", \"b\"), \"c\")), (\"__nl__\", (\"__list__\", (\"__list__\", \"a\"))))"
      ]
     },
     "execution_count": 61,
     "metadata": {},
     "output_type": "execute_result"
    }
   ],
   "source": [
    "parser(TESTS[4])"
   ]
  },
  {
   "cell_type": "code",
   "execution_count": 62,
   "id": "8b051b76-821f-4702-83e0-f0a1365583b3",
   "metadata": {},
   "outputs": [
    {
     "name": "stdout",
     "output_type": "stream",
     "text": [
      "\n",
      "__begin__ \n",
      "   a() \n",
      "   a(b) \n",
      "   a(b()) \n",
      "   a(b)(c) \n",
      "   a(b(c)) \n",
      "   a(b(c) , d) \n",
      "   a.b \n",
      "   a.b() \n",
      "   a.b(c) \n",
      "   a.b.c \n",
      "   a.b().c \n",
      "   a.b(c).d \n",
      "   a[] \n",
      "   a[b] \n",
      "   a[b[]] \n",
      "   a[b[c]] \n",
      "   a[b[c] , d] \n",
      "   a.b \n",
      "   a.b[] \n",
      "   a.b[c] \n",
      "   a.b.c \n",
      "   a.b[].c \n",
      "   a.b[c].d \n",
      "   a(b[c]) \n",
      "   (a)(b) \n",
      "   [a](b) \n",
      "   (a)[b] \n",
      "   [a][b] \n",
      "   (x) \n",
      "   (lambda (x) 3) \n",
      "   a[b](c) \n",
      "   [[a]]"
     ]
    }
   ],
   "source": [
    "pretty_print(parser(TESTS[4]))"
   ]
  },
  {
   "cell_type": "code",
   "execution_count": 26,
   "id": "660979e0-0b41-49d2-8884-45e8b7cecf95",
   "metadata": {},
   "outputs": [
    {
     "name": "stdout",
     "output_type": "stream",
     "text": [
      "if a = 1\n",
      "     println 3\n",
      "   a = 2\n",
      "     println(2)\n",
      "   else\n",
      "     println 1\n"
     ]
    }
   ],
   "source": [
    "print(TESTS[3])"
   ]
  },
  {
   "cell_type": "markdown",
   "id": "1b8ced3c-1fa3-4f07-824b-a730725d00f1",
   "metadata": {},
   "source": [
    "Functional:\n",
    "\n",
    "```lisp\n",
    "> (define (fib n)\n",
    ">     (let L ((a 1) (b 0) (c n))\n",
    ">         (if (= c 0)\n",
    ">              b\n",
    ">              (L b (+ a b) (- c 1)))))\n",
    "#<unspecified>\n",
    "> (fib 3)\n",
    "2\n",
    "> (map fib (list 1 2 3 4 5 6 7 8 9))\n",
    "(1 1 2 3 5 8 13 21 34)\n",
    "```\n",
    "\n",
    "In our notation:\n",
    "\n",
    "```julia\n",
    "function fib(n)\n",
    "    loop rec(a: 1, b: 0, c: n)\n",
    "        b if c = 0 else rec(b, a+b, c-1)\n",
    "    \n",
    "function fib(n)\n",
    "    rec(a, b, c): b if c = 0 else rec(b, a+b, c-1)\n",
    "    return rec(1, 0, n)\n",
    "\n",
    "\n",
    "fib(3)\n",
    "2\n",
    "map(fib, [1 2 3 4 5 6 7 8 9]) # [1 1 2 3 5 8 13 21 34]\n",
    "\n",
    "```\n",
    "\n",
    "```julia\n",
    "function fib(n)\n",
    "    rec(a, b, c): if c = 0 then b else rec(b, a+b, c-1)\n",
    "    return rec(1, 0, n)\n",
    "```\n",
    "\n",
    "```julia\n",
    "function fib(n)\n",
    "    return loop rec(a: 1, b: 0, c: n)\n",
    "        if c = 0 then b else rec(b, a+b, c-1)\n",
    "```"
   ]
  },
  {
   "cell_type": "markdown",
   "id": "c4f282d5-9164-4a20-a6ba-10a08bef662f",
   "metadata": {},
   "source": [
    "# Parser 2"
   ]
  },
  {
   "cell_type": "code",
   "execution_count": 53,
   "id": "bcff143c-5bb7-4347-85fc-6eb27b00e3f9",
   "metadata": {},
   "outputs": [
    {
     "data": {
      "text/plain": [
       "r\"\\w+\""
      ]
     },
     "execution_count": 53,
     "metadata": {},
     "output_type": "execute_result"
    }
   ],
   "source": [
    "r_bracket = r\"(?<rec>\\((?<n>(?>([^\\(\\)]|\\g<rec>)*))\\))\"\n",
    "r_word = r\"\\w+\""
   ]
  },
  {
   "cell_type": "code",
   "execution_count": null,
   "id": "07a4e1bc-bfba-4789-ba7f-27cb7d8e9fb6",
   "metadata": {},
   "outputs": [],
   "source": []
  },
  {
   "cell_type": "code",
   "execution_count": 54,
   "id": "c6c204ce-e51b-4787-bc2b-36ca86f5fc7b",
   "metadata": {},
   "outputs": [
    {
     "data": {
      "text/plain": [
       "\"[  asd asd( foo, bar() ) fasdf  ].adsf(    )\""
      ]
     },
     "execution_count": 54,
     "metadata": {},
     "output_type": "execute_result"
    }
   ],
   "source": [
    "replace(\"( asd asd( foo, bar() ) fasdf ).adsf(    )\", r_bracket => s\"[ \\g<n> ]\", count=1)"
   ]
  },
  {
   "cell_type": "code",
   "execution_count": 55,
   "id": "8a0e9edd-dad1-4739-aad6-4c5c9bacd420",
   "metadata": {},
   "outputs": [
    {
     "data": {
      "text/plain": [
       "r\"([^\\.]+)\\.([^\\.]+)\" => s\"( __dot__ \\1 \\2 )\""
      ]
     },
     "execution_count": 55,
     "metadata": {},
     "output_type": "execute_result"
    }
   ],
   "source": [
    "rs_dot = r\"([^\\.]+)\\.([^\\.]+)\" => s\"( __dot__ \\1 \\2 )\""
   ]
  },
  {
   "cell_type": "code",
   "execution_count": 56,
   "id": "1fed4b20-1ddb-4ef6-a6be-432e5aecb939",
   "metadata": {},
   "outputs": [
    {
     "data": {
      "text/plain": [
       "\"( __dot__ ( __dot__ foo bar ) baz )\""
      ]
     },
     "execution_count": 56,
     "metadata": {},
     "output_type": "execute_result"
    }
   ],
   "source": [
    "replace(replace(\"foo.bar.baz\", rs_dot), rs_dot)"
   ]
  },
  {
   "cell_type": "code",
   "execution_count": null,
   "id": "5ba2f17d-a375-46ef-aa51-3ab64ec997af",
   "metadata": {},
   "outputs": [],
   "source": [
    "function parser(str)\n",
    "    converge(f, xₙ) = (xₙ₊₁ = f(xₙ); xₙ₊₁ == xₙ ? xₙ₊₁ : converge(f, xₙ₊₁))\n",
    "    rs__sepsym__ = r\"(\\S)([\\+\\-\\*\\/\\^\\@\\=\\>\\<\\:\\;\\,]|(\\.\\.))\" => s\"\\1 \\2 \"\n",
    "    rs__sepsymbegin__ = r\"(^|\\s)([\\+\\-\\*\\/\\^\\@\\=\\>\\<\\:\\;\\,])\" => s\"\\1\\2 \"\n",
    "    rs__tuple__  = r\"(^|[\\(\\[\\s\\.])(?<rec>\\((?!\\s__tuple__)(?<n>(?>[^\\(\\)]+|\\g<rec>?)+)\\))\" => s\"\\1( __tuple__ \\g<n> )\"\n",
    "    rs__list__   = r\"(^|[\\(\\[\\s\\.])(?<rec>\\[(?<n>(?>[^\\[\\]]+|\\g<rec>?)+)\\])\" => s\"\\1( __list__ \\g<n> )\"\n",
    "    rs__call__   = r\"(?<l>(?<rec0>\\((?>[^\\(\\)\\[\\]]+|\\g<rec0>|\\g<rec1>?)+\\))|(?<rec1>\\[(?>[^\\(\\)\\[\\]]+|\\g<rec0>|\\g<rec1>?)+\\])|[^\\(\\)\\[\\]\\s\\.]+)(?<rec2>\\((?<j>(?>[^\\(\\)]+|\\g<rec2>?)+)\\))\" => s\"( __call__ \\g<l> \\g<j> )\"\n",
    "    rs__index__  = r\"(?<l>(?<rec0>\\((?>[^\\(\\)\\[\\]]+|\\g<rec0>|\\g<rec1>?)+\\))|(?<rec1>\\[(?>[^\\(\\)\\[\\]]+|\\g<rec0>|\\g<rec1>?)+\\])|[^\\(\\)\\[\\]\\s\\.]+)(?<rec2>\\[(?<j>(?>[^\\[\\]]+|\\g<rec2>?)+)\\])\" => s\"( __index__ \\g<l> \\g<j> )\"\n",
    "    rs__dot__ = r\"(?<l>(?<rec>\\((?>[^\\(\\)]+|\\g<rec>?)+\\))|[^\\(\\)\\s\\.]+)\\.(?<r>\\g<rec>|[^\\(\\)\\s\\.]+)\" => s\"( __dot__ \\g<l> \\g<r> )\"\n",
    "    return @pipe str |> \n",
    "        replace(_, rs__sepsymbegin__) |>\n",
    "        replace(_, rs__sepsym__) |>\n",
    "        converge(t -> replace(t, rs__tuple__), _) |> \n",
    "        converge(t -> replace(t, rs__list__), _) |> \n",
    "        converge(t -> replace(t, rs__index__), _) |>\n",
    "        converge(t -> replace(t,  rs__call__), _) |> \n",
    "        converge(t -> replace(t,   rs__dot__), _) |> \n",
    "        to_line_tokens |> \n",
    "        get_block!\n",
    "end"
   ]
  }
 ],
 "metadata": {
  "kernelspec": {
   "display_name": "Julia 1.8.5",
   "language": "julia",
   "name": "julia-1.8"
  },
  "language_info": {
   "file_extension": ".jl",
   "mimetype": "application/julia",
   "name": "julia",
   "version": "1.8.5"
  }
 },
 "nbformat": 4,
 "nbformat_minor": 5
}
