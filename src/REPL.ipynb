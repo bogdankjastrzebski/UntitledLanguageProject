{
 "cells": [
  {
   "cell_type": "code",
   "execution_count": 54,
   "id": "3c5dba37-6865-4bd8-b0bc-b35071e8908a",
   "metadata": {},
   "outputs": [
    {
     "name": "stderr",
     "output_type": "stream",
     "text": [
      "\u001b[32m\u001b[1m  Activating\u001b[22m\u001b[39m project at `~/Projects/UntitledLanguageProject`\n"
     ]
    }
   ],
   "source": [
    "] activate .."
   ]
  },
  {
   "cell_type": "code",
   "execution_count": 55,
   "id": "f5c88e7e-8fb8-4d70-9e0c-362a587c5862",
   "metadata": {},
   "outputs": [],
   "source": [
    "using UntitledLanguage\n",
    "import UntitledLanguage: create_lambda, val"
   ]
  },
  {
   "cell_type": "code",
   "execution_count": 56,
   "id": "00663c1e-6901-4a75-9c83-90402fb0250b",
   "metadata": {},
   "outputs": [
    {
     "data": {
      "text/plain": [
       "2-element Vector{String}:\n",
       " \"__begin__\\n    let fib(n)\\n      \" ⋯ 47 bytes ⋯ \"  a, b: b, a+b\\n       return b\\n\"\n",
       " \"set! foo (lambda (x) (+ x 3))\\n\""
      ]
     },
     "execution_count": 56,
     "metadata": {},
     "output_type": "execute_result"
    }
   ],
   "source": [
    "tests = [\n",
    "    \"\"\"\n",
    "    __begin__\n",
    "        let fib(n)\n",
    "           a: 1\n",
    "           b: 0\n",
    "           for _ in 0..n\n",
    "              a, b: b, a+b\n",
    "           return b\n",
    "    \"\"\", \n",
    "    \"\"\"\n",
    "    set! foo (lambda (x) (+ x 3))\n",
    "    \"\"\"\n",
    "]"
   ]
  },
  {
   "cell_type": "code",
   "execution_count": 57,
   "id": "5f9f3337-0163-4617-a155-00fe77ca016a",
   "metadata": {},
   "outputs": [
    {
     "data": {
      "text/plain": [
       "to_SExpr (generic function with 2 methods)"
      ]
     },
     "execution_count": 57,
     "metadata": {},
     "output_type": "execute_result"
    }
   ],
   "source": [
    "function to_SExpr(t::Tuple)\n",
    "    return SExpr(to_SExpr.(t))\n",
    "end\n",
    "function to_SExpr(s::Union{String, SubString})\n",
    "    t = tryparse(Int64, s)\n",
    "    if !(t isa Nothing)\n",
    "        return Atom(t)\n",
    "    end\n",
    "    \n",
    "    t = tryparse(Float64, s)\n",
    "    if !(t isa Nothing)\n",
    "        return Atom(t)\n",
    "    end\n",
    "    \n",
    "    return Atom(Symbol(s))\n",
    "end"
   ]
  },
  {
   "cell_type": "code",
   "execution_count": 58,
   "id": "7941a999-144c-4ed8-aa66-edba0153cec3",
   "metadata": {},
   "outputs": [
    {
     "data": {
      "text/plain": [
       "create_lambda (generic function with 1 method)"
      ]
     },
     "execution_count": 58,
     "metadata": {},
     "output_type": "execute_result"
    }
   ],
   "source": [
    "function create_lambda(ast, env)\n",
    "    body = ast.expr[3]\n",
    "    if ast.expr[2] isa Atom\n",
    "        name = val(ast.expr[2])\n",
    "        return (args...) -> ast_walk(\n",
    "            ast.expr[3],\n",
    "            env = Environment(Dict{Symbol, Any}(name => args), env)\n",
    "        )\n",
    "    else\n",
    "        names = val.(ast.expr[2].expr)\n",
    "        return (args...) -> ast_walk(\n",
    "            ast.expr[3], \n",
    "            env = Environment(env, names, args)\n",
    "        )\n",
    "    end\n",
    "end"
   ]
  },
  {
   "cell_type": "code",
   "execution_count": 59,
   "id": "fc1e4cbb-e053-40f1-9734-997bb50cdd2c",
   "metadata": {},
   "outputs": [
    {
     "data": {
      "text/plain": [
       "split_comma (generic function with 1 method)"
      ]
     },
     "execution_count": 59,
     "metadata": {},
     "output_type": "execute_result"
    }
   ],
   "source": [
    "function split_comma(arr) # Not used, but for the future, for now only one item\n",
    "    ret = []\n",
    "    cur = []\n",
    "    for a in arr\n",
    "        if a != Symbol(\",\")\n",
    "            push!(cur, a)\n",
    "        else\n",
    "            push!(ret, cur)\n",
    "            cur = []\n",
    "        end\n",
    "    end\n",
    "    push!(ret, cur)\n",
    "    return [SExpr(tuple(r...)) for r in ret]\n",
    "end\n",
    "\n",
    "function split_comma(arr)\n",
    "    @assert isodd(length(arr))\n",
    "    @assert all(==(Atom(Symbol(\",\"))).(arr[2:2:end]))\n",
    "    return arr[1:2:end]\n",
    "end\n",
    "    "
   ]
  },
  {
   "cell_type": "code",
   "execution_count": 60,
   "id": "5c1264ea-653b-45e4-ba1d-931178c55dbd",
   "metadata": {
    "tags": []
   },
   "outputs": [
    {
     "data": {
      "text/plain": [
       "#74 (generic function with 1 method)"
      ]
     },
     "execution_count": 60,
     "metadata": {},
     "output_type": "execute_result"
    }
   ],
   "source": [
    "BUILTINS = () -> Dict{Symbol, Any}(\n",
    "    :__println__ => println,\n",
    "    :add => (+),\n",
    "    :mul => (*),\n",
    "    :+ => (+),\n",
    "    :* => (*),\n",
    "    :is => (===),\n",
    "    :(=) => (==),\n",
    "    :> => (>),\n",
    "    :< => (<), \n",
    "    :≥ => (≥), \n",
    "    :≤ => (≤),\n",
    "    :list => (args...) -> SExpr(args),\n",
    "    :__nl__ => Macro((args...) -> SExpr(args)),\n",
    "    :__call__ => Macro((args...) -> se(args[1], split_comma(args[2:end])...)),\n",
    "    :__tuple__ => Macro((args...) -> (println(args); SExpr(args))),\n",
    "    :lambda_ => Macro((args...) -> SExpr((at(:lambda), SExpr(args[1].expr[2:end]), args[2]))), \n",
    "    :print => Macro((args...) -> se(:__println__, args...))\n",
    ")"
   ]
  },
  {
   "cell_type": "code",
   "execution_count": null,
   "id": "e60cdcc6-78d6-4719-86dc-7a2ec1d00e48",
   "metadata": {},
   "outputs": [],
   "source": []
  },
  {
   "cell_type": "code",
   "execution_count": 61,
   "id": "f31342e8-42b7-4c7b-8ab1-f40a08521bf8",
   "metadata": {},
   "outputs": [
    {
     "name": "stdout",
     "output_type": "stream",
     "text": [
      "13\n"
     ]
    }
   ],
   "source": [
    "ast_walk(to_SExpr(parser(\"\"\"\n",
    "    begin\n",
    "        set! x 3\n",
    "        set! y 4\n",
    "        set! x mul(x,x)\n",
    "        print add(x,y)\n",
    "\"\"\")), env=Environment(BUILTINS()))"
   ]
  },
  {
   "cell_type": "code",
   "execution_count": 62,
   "id": "7c4defc3-3276-45eb-b79c-3196ae1ff2e1",
   "metadata": {},
   "outputs": [
    {
     "name": "stdout",
     "output_type": "stream",
     "text": [
      "(Atom{Symbol}(:lambda_), SExpr((Atom{Symbol}(:__tuple__), Atom{Symbol}(:x))), SExpr((Atom{Symbol}(:__call__), Atom{Symbol}(:add), Atom{Symbol}(:x), Atom{Symbol}(Symbol(\",\")), Atom{Int64}(3))))\n",
      "6\n"
     ]
    }
   ],
   "source": [
    "ast_walk(to_SExpr(parser(\"\"\"\n",
    "    begin\n",
    "        set! f (lambda_ (x) add(x, 3))\n",
    "        print f(3)\n",
    "\"\"\")), env=Environment(BUILTINS()))"
   ]
  },
  {
   "cell_type": "code",
   "execution_count": 63,
   "id": "bf5b2e63-8ef1-4b49-856a-23372002269a",
   "metadata": {},
   "outputs": [
    {
     "data": {
      "text/plain": [
       "SExpr((Atom{Symbol}(:__nl__), Atom{Symbol}(:set!), Atom{Symbol}(:y), Atom{Int64}(4)))"
      ]
     },
     "execution_count": 63,
     "metadata": {},
     "output_type": "execute_result"
    }
   ],
   "source": [
    "# ast_walk(\n",
    "temp = to_SExpr(parser(\"\"\"\n",
    "    begin\n",
    "        set! x 3\n",
    "        set! y 4\n",
    "        add(x,y)\n",
    "        3\n",
    "        \"\"\")).expr[end-2]#, env=Environment(BUILTINS()))"
   ]
  },
  {
   "cell_type": "code",
   "execution_count": 64,
   "id": "a546bcce-a285-444e-a5c7-faa7e316515d",
   "metadata": {},
   "outputs": [
    {
     "data": {
      "text/plain": [
       "SExpr(((Atom{Symbol}(:set!), Atom{Symbol}(:y), Atom{Int64}(4)),))"
      ]
     },
     "execution_count": 64,
     "metadata": {},
     "output_type": "execute_result"
    }
   ],
   "source": [
    "BUILTINS()[:__nl__](temp.expr[2:end])"
   ]
  },
  {
   "cell_type": "code",
   "execution_count": 65,
   "id": "f4b9ebff-585e-40aa-af4e-cfad5564824f",
   "metadata": {},
   "outputs": [
    {
     "data": {
      "text/plain": [
       "repl (generic function with 2 methods)"
      ]
     },
     "execution_count": 65,
     "metadata": {},
     "output_type": "execute_result"
    }
   ],
   "source": [
    "function repl(env=Environment(BUILTINS()); prompt=\"logos> \")\n",
    "    while true\n",
    "        if prompt != \"\"\n",
    "            print(prompt)\n",
    "        end\n",
    "        str = readline()\n",
    "        if str == \"exit\"\n",
    "            break\n",
    "        end\n",
    "        try\n",
    "            ast_walk(to_SExpr(parser(str)), env=env)\n",
    "        catch e\n",
    "            println(e)\n",
    "        end\n",
    "    end\n",
    "end"
   ]
  },
  {
   "cell_type": "code",
   "execution_count": 66,
   "id": "e79abe96-9c7a-4842-bcbf-a27e51979240",
   "metadata": {},
   "outputs": [
    {
     "name": "stdin",
     "output_type": "stream",
     "text": [
      "stdin>  set! x 3\n",
      "stdin>  print x\n"
     ]
    },
    {
     "name": "stdout",
     "output_type": "stream",
     "text": [
      "3\n"
     ]
    },
    {
     "name": "stdin",
     "output_type": "stream",
     "text": [
      "stdin>  exit\n"
     ]
    }
   ],
   "source": [
    "repl(prompt=\"\")"
   ]
  },
  {
   "cell_type": "code",
   "execution_count": null,
   "id": "6de2080e-f254-477d-af1b-041330c7e48e",
   "metadata": {},
   "outputs": [],
   "source": []
  }
 ],
 "metadata": {
  "kernelspec": {
   "display_name": "Julia 1.8.5",
   "language": "julia",
   "name": "julia-1.8"
  },
  "language_info": {
   "file_extension": ".jl",
   "mimetype": "application/julia",
   "name": "julia",
   "version": "1.8.5"
  }
 },
 "nbformat": 4,
 "nbformat_minor": 5
}
