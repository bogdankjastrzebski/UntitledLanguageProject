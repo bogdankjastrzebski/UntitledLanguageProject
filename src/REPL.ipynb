{
 "cells": [
  {
   "cell_type": "code",
   "execution_count": 8,
   "id": "3c5dba37-6865-4bd8-b0bc-b35071e8908a",
   "metadata": {},
   "outputs": [
    {
     "name": "stderr",
     "output_type": "stream",
     "text": [
      "\u001b[32m\u001b[1m  Activating\u001b[22m\u001b[39m project at `~/Projects/UntitledLanguageProject`\n"
     ]
    }
   ],
   "source": [
    "] activate .."
   ]
  },
  {
   "cell_type": "code",
   "execution_count": 10,
   "id": "f5c88e7e-8fb8-4d70-9e0c-362a587c5862",
   "metadata": {},
   "outputs": [],
   "source": [
    "using UntitledLanguage"
   ]
  },
  {
   "cell_type": "code",
   "execution_count": 79,
   "id": "00663c1e-6901-4a75-9c83-90402fb0250b",
   "metadata": {},
   "outputs": [
    {
     "data": {
      "text/plain": [
       "2-element Vector{String}:\n",
       " \"__begin__\\n    let fib(n)\\n      \" ⋯ 47 bytes ⋯ \"  a, b: b, a+b\\n       return b\\n\"\n",
       " \"set! foo (lambda (x) (+ x 3))\\n\""
      ]
     },
     "execution_count": 79,
     "metadata": {},
     "output_type": "execute_result"
    }
   ],
   "source": [
    "tests = [\n",
    "    \"\"\"\n",
    "    __begin__\n",
    "        let fib(n)\n",
    "           a: 1\n",
    "           b: 0\n",
    "           for _ in 0..n\n",
    "              a, b: b, a+b\n",
    "           return b\n",
    "    \"\"\", \n",
    "    \"\"\"\n",
    "    set! foo (lambda (x) (+ x 3))\n",
    "    \"\"\"\n",
    "]"
   ]
  },
  {
   "cell_type": "code",
   "execution_count": 81,
   "id": "e4ccaad7-66ed-4b83-b679-52d51f80aaf1",
   "metadata": {},
   "outputs": [
    {
     "data": {
      "text/plain": [
       "SExpr((:+, :x, Symbol(\"3)\")))"
      ]
     },
     "execution_count": 81,
     "metadata": {},
     "output_type": "execute_result"
    }
   ],
   "source": [
    "to_SExpr(parser(tests[2])).expr[4].expr[end]"
   ]
  },
  {
   "cell_type": "code",
   "execution_count": 82,
   "id": "2dc2a547-5c16-41a3-9507-fe8ab375ca10",
   "metadata": {},
   "outputs": [
    {
     "data": {
      "text/plain": [
       "(\"__nl__\", \"set!\", \"foo\", (\"__tuple__\", \"lambda\", \"(x)\", (\"+\", \"x\", \"3)\")))"
      ]
     },
     "execution_count": 82,
     "metadata": {},
     "output_type": "execute_result"
    }
   ],
   "source": [
    "parser(tests[2])"
   ]
  },
  {
   "cell_type": "code",
   "execution_count": 65,
   "id": "5f9f3337-0163-4617-a155-00fe77ca016a",
   "metadata": {},
   "outputs": [
    {
     "data": {
      "text/plain": [
       "to_SExpr (generic function with 3 methods)"
      ]
     },
     "execution_count": 65,
     "metadata": {},
     "output_type": "execute_result"
    }
   ],
   "source": [
    "function to_SExpr(t::Tuple)\n",
    "    return SExpr(to_SExpr.(t))\n",
    "end\n",
    "function to_SExpr(s::Union{String, SubString})\n",
    "    t = tryparse(Int64, s)\n",
    "    if !(t isa Nothing)\n",
    "        return t\n",
    "    end\n",
    "    \n",
    "    t = tryparse(Float64, s)\n",
    "    if !(t isa Nothing)\n",
    "        return t\n",
    "    end\n",
    "    \n",
    "    return Symbol(s)\n",
    "end"
   ]
  },
  {
   "cell_type": "code",
   "execution_count": null,
   "id": "5c1264ea-653b-45e4-ba1d-931178c55dbd",
   "metadata": {},
   "outputs": [],
   "source": []
  },
  {
   "cell_type": "code",
   "execution_count": null,
   "id": "f31342e8-42b7-4c7b-8ab1-f40a08521bf8",
   "metadata": {},
   "outputs": [],
   "source": []
  }
 ],
 "metadata": {
  "kernelspec": {
   "display_name": "Julia 1.8.5",
   "language": "julia",
   "name": "julia-1.8"
  },
  "language_info": {
   "file_extension": ".jl",
   "mimetype": "application/julia",
   "name": "julia",
   "version": "1.8.5"
  }
 },
 "nbformat": 4,
 "nbformat_minor": 5
}
