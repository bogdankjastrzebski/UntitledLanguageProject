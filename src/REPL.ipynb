{
 "cells": [
  {
   "cell_type": "code",
   "execution_count": null,
   "id": "3c5dba37-6865-4bd8-b0bc-b35071e8908a",
   "metadata": {},
   "outputs": [],
   "source": [
    "] activate .."
   ]
  },
  {
   "cell_type": "code",
   "execution_count": 1,
   "id": "f5c88e7e-8fb8-4d70-9e0c-362a587c5862",
   "metadata": {},
   "outputs": [
    {
     "name": "stderr",
     "output_type": "stream",
     "text": [
      "\u001b[36m\u001b[1m[ \u001b[22m\u001b[39m\u001b[36m\u001b[1mInfo: \u001b[22m\u001b[39mPrecompiling UntitledLanguage [e96edc6f-9096-47bc-907c-7cc24c70b7c3]\n"
     ]
    }
   ],
   "source": [
    "using UntitledLanguage\n",
    "import UntitledLanguage: create_lambda, val"
   ]
  },
  {
   "cell_type": "code",
   "execution_count": 2,
   "id": "00663c1e-6901-4a75-9c83-90402fb0250b",
   "metadata": {},
   "outputs": [
    {
     "data": {
      "text/plain": [
       "2-element Vector{String}:\n",
       " \"__begin__\\n    let fib(n)\\n      \" ⋯ 47 bytes ⋯ \"  a, b: b, a+b\\n       return b\\n\"\n",
       " \"set! foo (lambda (x) (+ x 3))\\n\""
      ]
     },
     "execution_count": 2,
     "metadata": {},
     "output_type": "execute_result"
    }
   ],
   "source": [
    "tests = [\n",
    "    \"\"\"\n",
    "    __begin__\n",
    "        let fib(n)\n",
    "           a: 1\n",
    "           b: 0\n",
    "           for _ in 0..n\n",
    "              a, b: b, a+b\n",
    "           return b\n",
    "    \"\"\", \n",
    "    \"\"\"\n",
    "    set! foo (lambda (x) (+ x 3))\n",
    "    \"\"\"\n",
    "]"
   ]
  },
  {
   "cell_type": "code",
   "execution_count": 3,
   "id": "5f9f3337-0163-4617-a155-00fe77ca016a",
   "metadata": {},
   "outputs": [
    {
     "data": {
      "text/plain": [
       "to_SExpr (generic function with 2 methods)"
      ]
     },
     "execution_count": 3,
     "metadata": {},
     "output_type": "execute_result"
    }
   ],
   "source": [
    "function to_SExpr(t::Tuple)\n",
    "    return SExpr(to_SExpr.(t))\n",
    "end\n",
    "function to_SExpr(s::Union{String, SubString})\n",
    "    t = tryparse(Int64, s)\n",
    "    if !(t isa Nothing)\n",
    "        return Atom(t)\n",
    "    end\n",
    "    \n",
    "    t = tryparse(Float64, s)\n",
    "    if !(t isa Nothing)\n",
    "        return Atom(t)\n",
    "    end\n",
    "    \n",
    "    return Atom(Symbol(s))\n",
    "end"
   ]
  },
  {
   "cell_type": "code",
   "execution_count": 4,
   "id": "7941a999-144c-4ed8-aa66-edba0153cec3",
   "metadata": {},
   "outputs": [
    {
     "data": {
      "text/plain": [
       "create_lambda (generic function with 1 method)"
      ]
     },
     "execution_count": 4,
     "metadata": {},
     "output_type": "execute_result"
    }
   ],
   "source": [
    "function create_lambda(ast, env)\n",
    "    body = ast.expr[3]\n",
    "    if ast.expr[2] isa Atom\n",
    "        name = val(ast.expr[2])\n",
    "        return (args...) -> ast_walk(\n",
    "            ast.expr[3],\n",
    "            env = Environment(Dict{Symbol, Any}(name => args), env)\n",
    "        )\n",
    "    else\n",
    "        names = val.(ast.expr[2].expr)\n",
    "        return (args...) -> ast_walk(\n",
    "            ast.expr[3], \n",
    "            env = Environment(env, names, args)\n",
    "        )\n",
    "    end\n",
    "end"
   ]
  },
  {
   "cell_type": "code",
   "execution_count": 5,
   "id": "fc1e4cbb-e053-40f1-9734-997bb50cdd2c",
   "metadata": {},
   "outputs": [
    {
     "data": {
      "text/plain": [
       "split_comma (generic function with 1 method)"
      ]
     },
     "execution_count": 5,
     "metadata": {},
     "output_type": "execute_result"
    }
   ],
   "source": [
    "function split_comma(arr) # Not used, but for the future, for now only one item\n",
    "    ret = []\n",
    "    cur = []\n",
    "    for a in arr\n",
    "        if a != Symbol(\",\")\n",
    "            push!(cur, a)\n",
    "        else\n",
    "            push!(ret, cur)\n",
    "            cur = []\n",
    "        end\n",
    "    end\n",
    "    push!(ret, cur)\n",
    "    return [SExpr(tuple(r...)) for r in ret]\n",
    "end\n",
    "\n",
    "function split_comma(arr)\n",
    "    @assert isodd(length(arr))\n",
    "    @assert all(==(Atom(Symbol(\",\"))).(arr[2:2:end]))\n",
    "    return arr[1:2:end]\n",
    "end\n",
    "    "
   ]
  },
  {
   "cell_type": "code",
   "execution_count": 6,
   "id": "5c1264ea-653b-45e4-ba1d-931178c55dbd",
   "metadata": {
    "tags": []
   },
   "outputs": [
    {
     "data": {
      "text/plain": [
       "#7 (generic function with 1 method)"
      ]
     },
     "execution_count": 6,
     "metadata": {},
     "output_type": "execute_result"
    }
   ],
   "source": [
    "BUILTINS = () -> Dict{Symbol, Any}(\n",
    "    :__println__ => println,\n",
    "    :add => (+),\n",
    "    :mul => (*),\n",
    "    :+ => (+),\n",
    "    :* => (*),\n",
    "    :is => (===),\n",
    "    :(=) => (==),\n",
    "    :> => (>),\n",
    "    :< => (<), \n",
    "    :≥ => (≥), \n",
    "    :≤ => (≤),\n",
    "    :list => (args...) -> SExpr(args),\n",
    "    :__nl__ => Macro((args...) -> SExpr(args)),\n",
    "    :__call__ => Macro((args...) -> se(args[1], split_comma(args[2:end])...)),\n",
    "    :__tuple__ => Macro((args...) -> (println(args); SExpr(args))),\n",
    "    :lambda_ => Macro((args...) -> SExpr((at(:lambda), SExpr(args[1].expr[2:end]), args[2]))), \n",
    "    :print => Macro((args...) -> se(:__println__, args...))\n",
    ")"
   ]
  },
  {
   "cell_type": "code",
   "execution_count": 11,
   "id": "e60cdcc6-78d6-4719-86dc-7a2ec1d00e48",
   "metadata": {},
   "outputs": [
    {
     "data": {
      "text/plain": [
       "(\"__nl__\", \"begin\", (\"__nl__\", \"set!\", \"x\", \"3\"), (\"__nl__\", \"set!\", \"y\", \"4\"), (\"__nl__\", \"set!\", \"x\", (\"__call__\", \"mul\", (\"__call__\", \"mul\", \"x\", \",\", (\"__call__\", \"mul\", (\"__call__\", \"mul\", \"x\", \",\", \"x\"), \",\", \"x\")), \",\", \"x\")), (\"__nl__\", \"print\", (\"__call__\", \"add\", \"x\", \",\", \"y\")))"
      ]
     },
     "execution_count": 11,
     "metadata": {},
     "output_type": "execute_result"
    }
   ],
   "source": [
    "parser(\"\"\"\n",
    "        set! x 3\n",
    "        set! y 4\n",
    "        set! x mul(mul(x,mul(mul(x,x),x)),x)\n",
    "        print add(x,y)\n",
    "\"\"\")"
   ]
  },
  {
   "cell_type": "code",
   "execution_count": 14,
   "id": "f31342e8-42b7-4c7b-8ab1-f40a08521bf8",
   "metadata": {},
   "outputs": [
    {
     "name": "stdout",
     "output_type": "stream",
     "text": [
      "247\n"
     ]
    }
   ],
   "source": [
    "ast_walk(to_SExpr(parser(\"\"\"\n",
    "        set! x 3\n",
    "        set! y 4\n",
    "        set! x mul(mul(x,mul(mul(x,x),x)),x)\n",
    "        print add(x,y)\n",
    "\"\"\")), env=Environment(BUILTINS()))"
   ]
  },
  {
   "cell_type": "code",
   "execution_count": 17,
   "id": "7c4defc3-3276-45eb-b79c-3196ae1ff2e1",
   "metadata": {},
   "outputs": [
    {
     "name": "stdout",
     "output_type": "stream",
     "text": [
      "(Atom{Symbol}(:lambda_), SExpr((Atom{Symbol}(:__tuple__), Atom{Symbol}(:x))), SExpr((Atom{Symbol}(:__call__), Atom{Symbol}(:add), Atom{Symbol}(:x), Atom{Symbol}(Symbol(\",\")), Atom{Int64}(3))))\n",
      "6\n"
     ]
    }
   ],
   "source": [
    "ast_walk(to_SExpr(parser(\"\"\"\n",
    "        set! f (lambda_ (x) add(x, 3))\n",
    "        print f(3)\n",
    "\"\"\")), env=Environment(BUILTINS()))"
   ]
  },
  {
   "cell_type": "code",
   "execution_count": 23,
   "id": "aa91726b-62d5-473e-a3e6-aeb9b87ff95c",
   "metadata": {},
   "outputs": [
    {
     "name": "stdout",
     "output_type": "stream",
     "text": [
      "\u001b[34masdf\u001b[39m\n"
     ]
    }
   ],
   "source": [
    "printstyled(\"asdf\", '\\n', color=:blue)"
   ]
  },
  {
   "cell_type": "code",
   "execution_count": 24,
   "id": "9b39f9cc-1b8f-41b0-9990-8ca351439546",
   "metadata": {},
   "outputs": [
    {
     "name": "stdout",
     "output_type": "stream",
     "text": [
      "search: \u001b[0m\u001b[1mp\u001b[22m\u001b[0m\u001b[1mr\u001b[22m\u001b[0m\u001b[1mi\u001b[22m\u001b[0m\u001b[1mn\u001b[22m\u001b[0m\u001b[1mt\u001b[22m\u001b[0m\u001b[1ms\u001b[22m\u001b[0m\u001b[1mt\u001b[22m\u001b[0m\u001b[1my\u001b[22m\u001b[0m\u001b[1ml\u001b[22m\u001b[0m\u001b[1me\u001b[22m\u001b[0m\u001b[1md\u001b[22m\n",
      "\n"
     ]
    },
    {
     "data": {
      "text/latex": [
       "\\begin{verbatim}\n",
       "printstyled([io], xs...; bold::Bool=false, underline::Bool=false, blink::Bool=false, reverse::Bool=false, hidden::Bool=false, color::Union{Symbol,Int}=:normal)\n",
       "\\end{verbatim}\n",
       "Print \\texttt{xs} in a color specified as a symbol or integer, optionally in bold.\n",
       "\n",
       "Keyword \\texttt{color} may take any of the values \\texttt{:normal}, \\texttt{:default}, \\texttt{:bold}, \\texttt{:black}, \\texttt{:blink}, \\texttt{:blue}, \\texttt{:cyan}, \\texttt{:green}, \\texttt{:hidden}, \\texttt{:light\\_black}, \\texttt{:light\\_blue}, \\texttt{:light\\_cyan}, \\texttt{:light\\_green}, \\texttt{:light\\_magenta}, \\texttt{:light\\_red}, \\texttt{:light\\_white}, \\texttt{:light\\_yellow}, \\texttt{:magenta}, \\texttt{:nothing}, \\texttt{:red}, \\texttt{:reverse}, \\texttt{:underline}, \\texttt{:white}, or  \\texttt{:yellow} or an integer between 0 and 255 inclusive. Note that not all terminals support 256 colors.\n",
       "\n",
       "Keywords \\texttt{bold=true}, \\texttt{underline=true}, \\texttt{blink=true} are self-explanatory. Keyword \\texttt{reverse=true} prints with foreground and background colors exchanged, and \\texttt{hidden=true} should be invisibe in the terminal but can still be copied. These properties can be used in any combination.\n",
       "\n",
       "See also \\href{@ref}{\\texttt{print}}, \\href{@ref}{\\texttt{println}}, \\href{@ref}{\\texttt{show}}.\n",
       "\n",
       "\\begin{quote}\n",
       "\\textbf{compat}\n",
       "\n",
       "Julia 1.7\n",
       "\n",
       "Keywords except \\texttt{color} and \\texttt{bold} were added in Julia 1.7.\n",
       "\n",
       "\\end{quote}\n"
      ],
      "text/markdown": [
       "```\n",
       "printstyled([io], xs...; bold::Bool=false, underline::Bool=false, blink::Bool=false, reverse::Bool=false, hidden::Bool=false, color::Union{Symbol,Int}=:normal)\n",
       "```\n",
       "\n",
       "Print `xs` in a color specified as a symbol or integer, optionally in bold.\n",
       "\n",
       "Keyword `color` may take any of the values `:normal`, `:default`, `:bold`, `:black`, `:blink`, `:blue`, `:cyan`, `:green`, `:hidden`, `:light_black`, `:light_blue`, `:light_cyan`, `:light_green`, `:light_magenta`, `:light_red`, `:light_white`, `:light_yellow`, `:magenta`, `:nothing`, `:red`, `:reverse`, `:underline`, `:white`, or  `:yellow` or an integer between 0 and 255 inclusive. Note that not all terminals support 256 colors.\n",
       "\n",
       "Keywords `bold=true`, `underline=true`, `blink=true` are self-explanatory. Keyword `reverse=true` prints with foreground and background colors exchanged, and `hidden=true` should be invisibe in the terminal but can still be copied. These properties can be used in any combination.\n",
       "\n",
       "See also [`print`](@ref), [`println`](@ref), [`show`](@ref).\n",
       "\n",
       "!!! compat \"Julia 1.7\"\n",
       "    Keywords except `color` and `bold` were added in Julia 1.7.\n",
       "\n"
      ],
      "text/plain": [
       "\u001b[36m  printstyled([io], xs...; bold::Bool=false, underline::Bool=false, blink::Bool=false, reverse::Bool=false, hidden::Bool=false, color::Union{Symbol,Int}=:normal)\u001b[39m\n",
       "\n",
       "  Print \u001b[36mxs\u001b[39m in a color specified as a symbol or integer, optionally in bold.\n",
       "\n",
       "  Keyword \u001b[36mcolor\u001b[39m may take any of the values \u001b[36m:normal\u001b[39m, \u001b[36m:default\u001b[39m, \u001b[36m:bold\u001b[39m, \u001b[36m:black\u001b[39m,\n",
       "  \u001b[36m:blink\u001b[39m, \u001b[36m:blue\u001b[39m, \u001b[36m:cyan\u001b[39m, \u001b[36m:green\u001b[39m, \u001b[36m:hidden\u001b[39m, \u001b[36m:light_black\u001b[39m, \u001b[36m:light_blue\u001b[39m,\n",
       "  \u001b[36m:light_cyan\u001b[39m, \u001b[36m:light_green\u001b[39m, \u001b[36m:light_magenta\u001b[39m, \u001b[36m:light_red\u001b[39m, \u001b[36m:light_white\u001b[39m,\n",
       "  \u001b[36m:light_yellow\u001b[39m, \u001b[36m:magenta\u001b[39m, \u001b[36m:nothing\u001b[39m, \u001b[36m:red\u001b[39m, \u001b[36m:reverse\u001b[39m, \u001b[36m:underline\u001b[39m, \u001b[36m:white\u001b[39m, or\n",
       "  \u001b[36m:yellow\u001b[39m or an integer between 0 and 255 inclusive. Note that not all\n",
       "  terminals support 256 colors.\n",
       "\n",
       "  Keywords \u001b[36mbold=true\u001b[39m, \u001b[36munderline=true\u001b[39m, \u001b[36mblink=true\u001b[39m are self-explanatory. Keyword\n",
       "  \u001b[36mreverse=true\u001b[39m prints with foreground and background colors exchanged, and\n",
       "  \u001b[36mhidden=true\u001b[39m should be invisibe in the terminal but can still be copied.\n",
       "  These properties can be used in any combination.\n",
       "\n",
       "  See also \u001b[36mprint\u001b[39m, \u001b[36mprintln\u001b[39m, \u001b[36mshow\u001b[39m.\n",
       "\n",
       "\u001b[39m\u001b[1m  │ \u001b[22m\u001b[39m\u001b[1mJulia 1.7\u001b[22m\n",
       "\u001b[39m\u001b[1m  │\u001b[22m\n",
       "\u001b[39m\u001b[1m  │\u001b[22m  Keywords except \u001b[36mcolor\u001b[39m and \u001b[36mbold\u001b[39m were added in Julia 1.7."
      ]
     },
     "execution_count": 24,
     "metadata": {},
     "output_type": "execute_result"
    }
   ],
   "source": [
    "?printstyled"
   ]
  },
  {
   "cell_type": "code",
   "execution_count": 10,
   "id": "bf5b2e63-8ef1-4b49-856a-23372002269a",
   "metadata": {},
   "outputs": [
    {
     "data": {
      "text/plain": [
       "SExpr((Atom{Symbol}(:__nl__), Atom{Symbol}(:set!), Atom{Symbol}(:y), Atom{Int64}(4)))"
      ]
     },
     "execution_count": 10,
     "metadata": {},
     "output_type": "execute_result"
    }
   ],
   "source": [
    "# ast_walk(\n",
    "temp = to_SExpr(parser(\"\"\"\n",
    "    begin\n",
    "        set! x 3\n",
    "        set! y 4\n",
    "        add(x,y)\n",
    "        3\n",
    "        \"\"\")).expr[end-2]#, env=Environment(BUILTINS()))"
   ]
  },
  {
   "cell_type": "code",
   "execution_count": 11,
   "id": "a546bcce-a285-444e-a5c7-faa7e316515d",
   "metadata": {},
   "outputs": [
    {
     "data": {
      "text/plain": [
       "SExpr(((Atom{Symbol}(:set!), Atom{Symbol}(:y), Atom{Int64}(4)),))"
      ]
     },
     "execution_count": 11,
     "metadata": {},
     "output_type": "execute_result"
    }
   ],
   "source": [
    "BUILTINS()[:__nl__](temp.expr[2:end])"
   ]
  },
  {
   "cell_type": "code",
   "execution_count": 12,
   "id": "f4b9ebff-585e-40aa-af4e-cfad5564824f",
   "metadata": {},
   "outputs": [
    {
     "data": {
      "text/plain": [
       "repl (generic function with 2 methods)"
      ]
     },
     "execution_count": 12,
     "metadata": {},
     "output_type": "execute_result"
    }
   ],
   "source": [
    "function repl(env=Environment(BUILTINS()); prompt=\"logos> \")\n",
    "    while true\n",
    "        if prompt != \"\"\n",
    "            print(prompt)\n",
    "        end\n",
    "        str = readline()\n",
    "        if str == \"exit\"\n",
    "            break\n",
    "        end\n",
    "        try\n",
    "            ast_walk(to_SExpr(parser(str)), env=env)\n",
    "        catch e\n",
    "            println(e)\n",
    "        end\n",
    "    end\n",
    "end"
   ]
  },
  {
   "cell_type": "code",
   "execution_count": 13,
   "id": "e79abe96-9c7a-4842-bcbf-a27e51979240",
   "metadata": {},
   "outputs": [
    {
     "name": "stdin",
     "output_type": "stream",
     "text": [
      "stdin>  set! x 2\n",
      "stdin>  print x\n"
     ]
    },
    {
     "name": "stdout",
     "output_type": "stream",
     "text": [
      "2\n"
     ]
    },
    {
     "name": "stdin",
     "output_type": "stream",
     "text": [
      "stdin>  exit()\n"
     ]
    },
    {
     "name": "stdout",
     "output_type": "stream",
     "text": [
      "AssertionError(\"isodd(length(arr))\")\n"
     ]
    },
    {
     "name": "stdin",
     "output_type": "stream",
     "text": [
      "stdin>  exit\n"
     ]
    }
   ],
   "source": [
    "repl(prompt=\"\")"
   ]
  },
  {
   "cell_type": "code",
   "execution_count": 25,
   "id": "6de2080e-f254-477d-af1b-041330c7e48e",
   "metadata": {},
   "outputs": [
    {
     "data": {
      "text/plain": [
       "\"let fib(n)\\n   a: 1\\n   b: 0\\n   for _ in 0..n\\n      a, b: b, a+b\\n   return b\\n\""
      ]
     },
     "execution_count": 25,
     "metadata": {},
     "output_type": "execute_result"
    }
   ],
   "source": [
    "a = \"\"\"\n",
    "let fib(n)\n",
    "   a: 1\n",
    "   b: 0\n",
    "   for _ in 0..n\n",
    "      a, b: b, a+b\n",
    "   return b\n",
    "\"\"\""
   ]
  },
  {
   "cell_type": "code",
   "execution_count": 27,
   "id": "1b1ccc1f-4fbb-4685-b7f8-7824c8d98957",
   "metadata": {},
   "outputs": [
    {
     "name": "stdout",
     "output_type": "stream",
     "text": [
      "    let fib(n)\n",
      "       a: 1\n",
      "       b: 0\n",
      "       for _ in 0..n\n",
      "          a, b: b, a+b\n",
      "       return b\n",
      "    \n"
     ]
    },
    {
     "data": {
      "text/plain": [
       "7-element Vector{Nothing}:\n",
       " nothing\n",
       " nothing\n",
       " nothing\n",
       " nothing\n",
       " nothing\n",
       " nothing\n",
       " nothing"
      ]
     },
     "execution_count": 27,
     "metadata": {},
     "output_type": "execute_result"
    }
   ],
   "source": [
    ".(\"    \", split(a, '\\n'), '\\n')"
   ]
  },
  {
   "cell_type": "code",
   "execution_count": null,
   "id": "238d48ef-575b-4c0b-8ee0-a4d594adfc09",
   "metadata": {},
   "outputs": [],
   "source": []
  }
 ],
 "metadata": {
  "kernelspec": {
   "display_name": "Julia 1.8.5",
   "language": "julia",
   "name": "julia-1.8"
  },
  "language_info": {
   "file_extension": ".jl",
   "mimetype": "application/julia",
   "name": "julia",
   "version": "1.8.5"
  }
 },
 "nbformat": 4,
 "nbformat_minor": 5
}
